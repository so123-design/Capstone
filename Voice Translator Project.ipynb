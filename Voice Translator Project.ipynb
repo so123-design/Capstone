{
 "cells": [
  {
   "cell_type": "markdown",
   "id": "c5ba4766",
   "metadata": {},
   "source": [
    "\n",
    "---\n",
    "\n",
    "# Voice Translator Using Speech Recognition\n",
    "\n",
    "## Project Overview: \n",
    "\n",
    "This project demonstrates the use of **speech recognition**, **language translation**, and **text-to-speech (TTS)** to create a voice-based translation system. It enables a user to speak in one language, and the system will recognize the speech, translate it into another language, and then read out the translation.\n",
    "\n",
    "### **Libraries Used:**\n",
    "1. **SpeechRecognition:** For recognizing speech through the microphone.\n",
    "2. **googletrans:** For translating the recognized text into the desired language using the Google Translate API.\n",
    "3. **pyttsx3:** For converting the translated text into speech and reading it aloud.\n",
    "4. **pyaudio:** (Required by SpeechRecognition) For audio input via the microphone.\n",
    "\n",
    "\n",
    "\n",
    "---\n",
    "\n",
    "### **Step-by-Step Explanation of the Code:**"
   ]
  },
  {
   "cell_type": "code",
   "execution_count": 13,
   "id": "e8300d32",
   "metadata": {},
   "outputs": [
    {
     "name": "stdout",
     "output_type": "stream",
     "text": [
      "Requirement already satisfied: SpeechRecognition in c:\\users\\admin\\sam\\lib\\site-packages (3.11.0)Note: you may need to restart the kernel to use updated packages.\n",
      "\n",
      "Requirement already satisfied: typing-extensions in c:\\users\\admin\\sam\\lib\\site-packages (from SpeechRecognition) (4.12.2)\n",
      "Requirement already satisfied: requests>=2.26.0 in c:\\users\\admin\\sam\\lib\\site-packages (from SpeechRecognition) (2.28.1)\n",
      "Requirement already satisfied: idna<4,>=2.5 in c:\\users\\admin\\sam\\lib\\site-packages (from requests>=2.26.0->SpeechRecognition) (2.10)\n",
      "Requirement already satisfied: urllib3<1.27,>=1.21.1 in c:\\users\\admin\\sam\\lib\\site-packages (from requests>=2.26.0->SpeechRecognition) (1.26.14)\n",
      "Requirement already satisfied: certifi>=2017.4.17 in c:\\users\\admin\\sam\\lib\\site-packages (from requests>=2.26.0->SpeechRecognition) (2024.2.2)\n",
      "Requirement already satisfied: charset-normalizer<3,>=2 in c:\\users\\admin\\sam\\lib\\site-packages (from requests>=2.26.0->SpeechRecognition) (2.0.4)\n"
     ]
    },
    {
     "name": "stderr",
     "output_type": "stream",
     "text": [
      "WARNING: Ignoring invalid distribution -illow (c:\\users\\admin\\sam\\lib\\site-packages)\n",
      "WARNING: Ignoring invalid distribution -illow (c:\\users\\admin\\sam\\lib\\site-packages)\n",
      "WARNING: Ignoring invalid distribution -illow (c:\\users\\admin\\sam\\lib\\site-packages)\n",
      "WARNING: Ignoring invalid distribution -illow (c:\\users\\admin\\sam\\lib\\site-packages)\n",
      "WARNING: Ignoring invalid distribution -illow (c:\\users\\admin\\sam\\lib\\site-packages)\n",
      "WARNING: Ignoring invalid distribution -illow (c:\\users\\admin\\sam\\lib\\site-packages)\n"
     ]
    }
   ],
   "source": [
    "pip install SpeechRecognition"
   ]
  },
  {
   "cell_type": "code",
   "execution_count": 5,
   "id": "99f24588",
   "metadata": {},
   "outputs": [
    {
     "name": "stdout",
     "output_type": "stream",
     "text": [
      "Requirement already satisfied: googletrans==4.0.0-rc1 in c:\\users\\admin\\sam\\lib\\site-packages (4.0.0rc1)\n",
      "Requirement already satisfied: httpx==0.13.3 in c:\\users\\admin\\sam\\lib\\site-packages (from googletrans==4.0.0-rc1) (0.13.3)\n",
      "Requirement already satisfied: idna==2.* in c:\\users\\admin\\sam\\lib\\site-packages (from httpx==0.13.3->googletrans==4.0.0-rc1) (2.10)\n",
      "Requirement already satisfied: hstspreload in c:\\users\\admin\\sam\\lib\\site-packages (from httpx==0.13.3->googletrans==4.0.0-rc1) (2024.11.1)\n",
      "Requirement already satisfied: certifi in c:\\users\\admin\\sam\\lib\\site-packages (from httpx==0.13.3->googletrans==4.0.0-rc1) (2024.2.2)\n",
      "Requirement already satisfied: httpcore==0.9.* in c:\\users\\admin\\sam\\lib\\site-packages (from httpx==0.13.3->googletrans==4.0.0-rc1) (0.9.1)\n",
      "Requirement already satisfied: sniffio in c:\\users\\admin\\sam\\lib\\site-packages (from httpx==0.13.3->googletrans==4.0.0-rc1) (1.2.0)\n",
      "Requirement already satisfied: rfc3986<2,>=1.3 in c:\\users\\admin\\sam\\lib\\site-packages (from httpx==0.13.3->googletrans==4.0.0-rc1) (1.5.0)\n",
      "Requirement already satisfied: chardet==3.* in c:\\users\\admin\\sam\\lib\\site-packages (from httpx==0.13.3->googletrans==4.0.0-rc1) (3.0.4)\n",
      "Requirement already satisfied: h11<0.10,>=0.8 in c:\\users\\admin\\sam\\lib\\site-packages (from httpcore==0.9.*->httpx==0.13.3->googletrans==4.0.0-rc1) (0.9.0)\n",
      "Requirement already satisfied: h2==3.* in c:\\users\\admin\\sam\\lib\\site-packages (from httpcore==0.9.*->httpx==0.13.3->googletrans==4.0.0-rc1) (3.2.0)\n",
      "Requirement already satisfied: hyperframe<6,>=5.2.0 in c:\\users\\admin\\sam\\lib\\site-packages (from h2==3.*->httpcore==0.9.*->httpx==0.13.3->googletrans==4.0.0-rc1) (5.2.0)\n",
      "Requirement already satisfied: hpack<4,>=3.0 in c:\\users\\admin\\sam\\lib\\site-packages (from h2==3.*->httpcore==0.9.*->httpx==0.13.3->googletrans==4.0.0-rc1) (3.0.0)\n",
      "Note: you may need to restart the kernel to use updated packages.\n"
     ]
    }
   ],
   "source": [
    "pip install googletrans==4.0.0-rc1"
   ]
  },
  {
   "cell_type": "code",
   "execution_count": 6,
   "id": "71b9f112",
   "metadata": {},
   "outputs": [
    {
     "name": "stdout",
     "output_type": "stream",
     "text": [
      "Requirement already satisfied: pyttsx3 in c:\\users\\admin\\sam\\lib\\site-packages (2.98)\n",
      "Requirement already satisfied: pypiwin32 in c:\\users\\admin\\sam\\lib\\site-packages (from pyttsx3) (223)\n",
      "Requirement already satisfied: pywin32 in c:\\users\\admin\\sam\\lib\\site-packages (from pyttsx3) (305.1)\n",
      "Requirement already satisfied: comtypes in c:\\users\\admin\\sam\\lib\\site-packages (from pyttsx3) (1.4.8)\n",
      "Note: you may need to restart the kernel to use updated packages.\n"
     ]
    }
   ],
   "source": [
    "pip install pyttsx3"
   ]
  },
  {
   "cell_type": "code",
   "execution_count": 7,
   "id": "967514c0",
   "metadata": {},
   "outputs": [
    {
     "name": "stdout",
     "output_type": "stream",
     "text": [
      "Requirement already satisfied: pyaudio in c:\\users\\admin\\sam\\lib\\site-packages (0.2.14)Note: you may need to restart the kernel to use updated packages.\n",
      "\n"
     ]
    }
   ],
   "source": [
    "pip install pyaudio"
   ]
  },
  {
   "cell_type": "markdown",
   "id": "a253bc26",
   "metadata": {},
   "source": [
    "- These are the required packages. You can install them using the above commands.\n",
    "    - **SpeechRecognition**: Handles voice input and converts it to text.\n",
    "    - **googletrans**: Used for translation of text into different languages.\n",
    "    - **pyttsx3**: Converts the translated text back to speech.\n",
    "    - **pyaudio**: Enables microphone input for the SpeechRecognition module.\n",
    "\n",
    "\n",
    "\n",
    "---"
   ]
  },
  {
   "cell_type": "code",
   "execution_count": 19,
   "id": "5496d62f",
   "metadata": {},
   "outputs": [],
   "source": [
    "import speech_recognition as sr\n",
    "from googletrans import Translator\n",
    "import pyttsx3"
   ]
  },
  {
   "cell_type": "markdown",
   "id": "5bc472af",
   "metadata": {},
   "source": [
    "\n",
    "- **speech_recognition (sr)**: This library helps to convert spoken language into text.\n",
    "- **googletrans (Translator)**: Used for language translation.\n",
    "- **pyttsx3 (engine)**: This module is used to convert the translated text into speech.\n",
    "\n",
    "---\n",
    "\n",
    "### **1. Initialize Recognizer and Speech Engine**"
   ]
  },
  {
   "cell_type": "code",
   "execution_count": 20,
   "id": "559b16e7",
   "metadata": {},
   "outputs": [],
   "source": [
    "recognizer = sr.Recognizer()\n",
    "engine = pyttsx3.init()"
   ]
  },
  {
   "cell_type": "markdown",
   "id": "b81b51fe",
   "metadata": {},
   "source": [
    "\n",
    "- `recognizer`: This object is used to recognize speech from audio.\n",
    "- `engine`: The pyttsx3 engine is initialized to convert the translated text into speech.\n",
    "\n",
    "---"
   ]
  },
  {
   "cell_type": "markdown",
   "id": "34ee426d",
   "metadata": {},
   "source": [
    "### **2. Capturing Speech from the Microphone**"
   ]
  },
  {
   "cell_type": "code",
   "execution_count": 21,
   "id": "b3202589",
   "metadata": {},
   "outputs": [
    {
     "name": "stdout",
     "output_type": "stream",
     "text": [
      "Clearing background noise...\n",
      "Waiting for message..\n",
      "Done recording..\n",
      "Recognizing..\n"
     ]
    }
   ],
   "source": [
    "with sr.Microphone() as source:\n",
    "    print('Clearing background noise...')\n",
    "    recognizer.adjust_for_ambient_noise(source, duration=1)\n",
    "    print('Waiting for message..')\n",
    "    \n",
    "    try:\n",
    "        audio = recognizer.listen(source, timeout=7)\n",
    "        print('Done recording..')\n",
    "        print('Recognizing..')\n",
    "        result = recognizer.recognize_google(audio, language='ta-IN')\n",
    "    except Exception as ex:\n",
    "        print(\"Error recognizing speech:\", ex)\n",
    "        result = None"
   ]
  },
  {
   "cell_type": "markdown",
   "id": "dbb846fa",
   "metadata": {},
   "source": [
    "- **Microphone as Source**: The microphone is used to capture audio.\n",
    "- **Noise Adjustment**: The `adjust_for_ambient_noise()` function is used to reduce background noise and improve the accuracy of speech recognition.\n",
    "- **Listening for Speech**: The `listen()` function listens for a spoken input. The `timeout=7` ensures that the program waits for 7 seconds to capture speech.\n",
    "- **Speech Recognition**: The `recognize_google()` function is used to convert the captured audio to text. The `language='ta-IN'` parameter indicates that the speech is expected to be in Tamil (you can change it to any language code as needed).\n",
    "- **Error Handling**: If there's an error while recognizing the speech, the program catches it and sets `result` to `None`.\n",
    "\n",
    "---"
   ]
  },
  {
   "cell_type": "markdown",
   "id": "f8b0b20d",
   "metadata": {},
   "source": [
    "### **3. Translate the Recognized Speech**"
   ]
  },
  {
   "cell_type": "code",
   "execution_count": 22,
   "id": "25b49cbe",
   "metadata": {},
   "outputs": [],
   "source": [
    "def trans():\n",
    "    if result:\n",
    "        langinput = input('Type the language code you want to convert to (e.g., \"fr\" for French): ')\n",
    "        translator = Translator()\n",
    "        translate_text = translator.translate(result, dest=langinput).text\n",
    "        print(translate_text)\n",
    "        engine.say(translate_text)\n",
    "        engine.runAndWait()\n",
    "    else:\n",
    "        print(\"No recognized text to translate.\")"
   ]
  },
  {
   "cell_type": "markdown",
   "id": "f96733fd",
   "metadata": {},
   "source": [
    "- **Translation Function**: The `trans()` function is called to handle the translation and text-to-speech output.\n",
    "    - **Check if `result` Exists**: First, it checks if the speech recognition was successful (`result` contains the recognized text).\n",
    "    - **Language Input**: The user is prompted to enter the target language code (e.g., \"fr\" for French, \"es\" for Spanish).\n",
    "    - **Translate the Text**: The `googletrans` library’s `translate()` function is used to translate the recognized text into the desired language. The `dest` argument specifies the target language code.\n",
    "    - **Convert Text to Speech**: After translation, the translated text is spoken aloud using `pyttsx3`'s `say()` and `runAndWait()` functions.\n",
    "    - **Fallback**: If no speech is recognized (`result` is `None`), an error message is displayed.\n",
    "\n",
    "---"
   ]
  },
  {
   "cell_type": "markdown",
   "id": "81624256",
   "metadata": {},
   "source": [
    "### **4. Run the Translation Process**"
   ]
  },
  {
   "cell_type": "code",
   "execution_count": 23,
   "id": "f4cd17c6",
   "metadata": {},
   "outputs": [
    {
     "name": "stdout",
     "output_type": "stream",
     "text": [
      "Type the language code you want to convert to (e.g., \"fr\" for French): fr\n",
      "Bonjour\n"
     ]
    }
   ],
   "source": [
    "trans()"
   ]
  },
  {
   "cell_type": "markdown",
   "id": "a6ebf49f",
   "metadata": {},
   "source": [
    "- The `trans()` function is called to start the translation process after the speech is recognized and captured.\n",
    "\n",
    "---"
   ]
  },
  {
   "cell_type": "markdown",
   "id": "95ae39fb",
   "metadata": {},
   "source": [
    "### **Usage Example:**\n",
    "1. The program will prompt the user to speak into the microphone.\n",
    "2. The recognized speech (in this case, Tamil) will be converted into text.\n",
    "3. The user will then be prompted to enter the language code (e.g., \"fr\" for French, \"en\" for English).\n",
    "4. The system will translate the text into the chosen language and read out the translation aloud.\n",
    "\n",
    "---\n",
    "\n",
    "### **Potential Enhancements:**\n",
    "1. **Support for Multiple Languages**: You can extend the program to support multiple input languages and auto-detect the language.\n",
    "2. **GUI Integration**: Add a graphical user interface (GUI) using libraries like Tkinter for easier interaction.\n",
    "3. **Speech Recognition Accuracy**: Implement advanced noise filtering and fine-tune speech recognition for better performance in noisy environments.\n",
    "\n",
    "---\n",
    "\n",
    "### **Conclusion:**\n",
    "This project combines the power of **speech recognition**, **real-time translation**, and **text-to-speech technology** to create an interactive voice translator. It showcases the use of libraries like `SpeechRecognition`, `googletrans`, and `pyttsx3` to build a voice-based translation tool, which can be used in various contexts like real-time communication, learning, and travel."
   ]
  },
  {
   "cell_type": "code",
   "execution_count": null,
   "id": "d380fd25",
   "metadata": {},
   "outputs": [],
   "source": []
  },
  {
   "cell_type": "code",
   "execution_count": null,
   "id": "520a1eac",
   "metadata": {},
   "outputs": [],
   "source": []
  }
 ],
 "metadata": {
  "kernelspec": {
   "display_name": "Python 3 (ipykernel)",
   "language": "python",
   "name": "python3"
  },
  "language_info": {
   "codemirror_mode": {
    "name": "ipython",
    "version": 3
   },
   "file_extension": ".py",
   "mimetype": "text/x-python",
   "name": "python",
   "nbconvert_exporter": "python",
   "pygments_lexer": "ipython3",
   "version": "3.10.9"
  }
 },
 "nbformat": 4,
 "nbformat_minor": 5
}
