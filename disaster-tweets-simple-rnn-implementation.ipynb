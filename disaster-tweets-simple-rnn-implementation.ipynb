{
 "cells": [
  {
   "cell_type": "markdown",
   "metadata": {
    "_cell_guid": "79c7e3d0-c299-4dcb-8224-4455121ee9b0",
    "_uuid": "d629ff2d2480ee46fbb7e2d37f6b5fab8052498a",
    "collapsed": true
   },
   "source": [
    "## Whats in this Notebook?\n",
    "- Exploratory Data Analysis (EDA)\n",
    "- Simple Data Cleaning\n",
    "- Using pre-trained model like GloVe\n",
    "- Why RNN is good for Text Processing?\n",
    "- Making sense out of Different Layers of RNN\n",
    "- Building a RNN model\n",
    "- Model Evaluation\n",
    "\n",
    "-- Detailed EDA is not included. Focused more on RNN step-by-step details"
   ]
  },
  {
   "cell_type": "markdown",
   "metadata": {},
   "source": [
    "### Special Thanks to : \n",
    "- Gunes Evitan [https://www.kaggle.com/gunesevitan]\n",
    "- Dieter[https://www.kaggle.com/christofhenkel]\n",
    "- Shahules786[https://www.kaggle.com/shahules]\n",
    "\n",
    "#### For their contribution and encouraging to learn more."
   ]
  },
  {
   "cell_type": "code",
   "execution_count": 1,
   "metadata": {},
   "outputs": [
    {
     "name": "stderr",
     "output_type": "stream",
     "text": [
      "Using TensorFlow backend.\n"
     ]
    }
   ],
   "source": [
    "import pandas as pd\n",
    "import numpy as np\n",
    "import seaborn as sns\n",
    "import matplotlib.pyplot as plt\n",
    "import string\n",
    "from tqdm import tqdm\n",
    "import re\n",
    "\n",
    "# nltk\n",
    "from nltk.tokenize import word_tokenize\n",
    "from nltk.corpus import stopwords\n",
    "\n",
    "\n",
    "# sklearn\n",
    "from sklearn.model_selection import train_test_split\n",
    "\n",
    "# keras and tensorflow\n",
    "from keras.preprocessing.text import Tokenizer\n",
    "from keras.preprocessing.sequence import pad_sequences\n",
    "\n",
    "from keras.models import Sequential\n",
    "from keras.layers import Embedding,LSTM,Dense,SpatialDropout1D\n",
    "from keras.initializers import Constant\n",
    "from keras.optimizers import Adam\n",
    "\n",
    "import tensorflow as tf\n",
    "\n",
    "stop = set(stopwords.words('english'))"
   ]
  },
  {
   "cell_type": "markdown",
   "metadata": {},
   "source": [
    "### Loading Data\n",
    "- Given : Training Dataset , Testing Dataset\n",
    "- Format : .csv"
   ]
  },
  {
   "cell_type": "code",
   "execution_count": 2,
   "metadata": {},
   "outputs": [],
   "source": [
    "df_train = pd.read_csv('../input/nlp-getting-started/train.csv')\n",
    "df_test = pd.read_csv('../input/nlp-getting-started/test.csv')"
   ]
  },
  {
   "cell_type": "markdown",
   "metadata": {},
   "source": [
    "### Basic EDA"
   ]
  },
  {
   "cell_type": "code",
   "execution_count": 3,
   "metadata": {},
   "outputs": [
    {
     "data": {
      "text/html": [
       "<div>\n",
       "<style scoped>\n",
       "    .dataframe tbody tr th:only-of-type {\n",
       "        vertical-align: middle;\n",
       "    }\n",
       "\n",
       "    .dataframe tbody tr th {\n",
       "        vertical-align: top;\n",
       "    }\n",
       "\n",
       "    .dataframe thead th {\n",
       "        text-align: right;\n",
       "    }\n",
       "</style>\n",
       "<table border=\"1\" class=\"dataframe\">\n",
       "  <thead>\n",
       "    <tr style=\"text-align: right;\">\n",
       "      <th></th>\n",
       "      <th>id</th>\n",
       "      <th>keyword</th>\n",
       "      <th>location</th>\n",
       "      <th>text</th>\n",
       "      <th>target</th>\n",
       "    </tr>\n",
       "  </thead>\n",
       "  <tbody>\n",
       "    <tr>\n",
       "      <th>0</th>\n",
       "      <td>1</td>\n",
       "      <td>NaN</td>\n",
       "      <td>NaN</td>\n",
       "      <td>Our Deeds are the Reason of this #earthquake M...</td>\n",
       "      <td>1</td>\n",
       "    </tr>\n",
       "    <tr>\n",
       "      <th>1</th>\n",
       "      <td>4</td>\n",
       "      <td>NaN</td>\n",
       "      <td>NaN</td>\n",
       "      <td>Forest fire near La Ronge Sask. Canada</td>\n",
       "      <td>1</td>\n",
       "    </tr>\n",
       "    <tr>\n",
       "      <th>2</th>\n",
       "      <td>5</td>\n",
       "      <td>NaN</td>\n",
       "      <td>NaN</td>\n",
       "      <td>All residents asked to 'shelter in place' are ...</td>\n",
       "      <td>1</td>\n",
       "    </tr>\n",
       "    <tr>\n",
       "      <th>3</th>\n",
       "      <td>6</td>\n",
       "      <td>NaN</td>\n",
       "      <td>NaN</td>\n",
       "      <td>13,000 people receive #wildfires evacuation or...</td>\n",
       "      <td>1</td>\n",
       "    </tr>\n",
       "    <tr>\n",
       "      <th>4</th>\n",
       "      <td>7</td>\n",
       "      <td>NaN</td>\n",
       "      <td>NaN</td>\n",
       "      <td>Just got sent this photo from Ruby #Alaska as ...</td>\n",
       "      <td>1</td>\n",
       "    </tr>\n",
       "  </tbody>\n",
       "</table>\n",
       "</div>"
      ],
      "text/plain": [
       "   id keyword location                                               text  \\\n",
       "0   1     NaN      NaN  Our Deeds are the Reason of this #earthquake M...   \n",
       "1   4     NaN      NaN             Forest fire near La Ronge Sask. Canada   \n",
       "2   5     NaN      NaN  All residents asked to 'shelter in place' are ...   \n",
       "3   6     NaN      NaN  13,000 people receive #wildfires evacuation or...   \n",
       "4   7     NaN      NaN  Just got sent this photo from Ruby #Alaska as ...   \n",
       "\n",
       "   target  \n",
       "0       1  \n",
       "1       1  \n",
       "2       1  \n",
       "3       1  \n",
       "4       1  "
      ]
     },
     "execution_count": 3,
     "metadata": {},
     "output_type": "execute_result"
    }
   ],
   "source": [
    "df_train.head()"
   ]
  },
  {
   "cell_type": "code",
   "execution_count": 4,
   "metadata": {},
   "outputs": [
    {
     "data": {
      "text/html": [
       "<div>\n",
       "<style scoped>\n",
       "    .dataframe tbody tr th:only-of-type {\n",
       "        vertical-align: middle;\n",
       "    }\n",
       "\n",
       "    .dataframe tbody tr th {\n",
       "        vertical-align: top;\n",
       "    }\n",
       "\n",
       "    .dataframe thead th {\n",
       "        text-align: right;\n",
       "    }\n",
       "</style>\n",
       "<table border=\"1\" class=\"dataframe\">\n",
       "  <thead>\n",
       "    <tr style=\"text-align: right;\">\n",
       "      <th></th>\n",
       "      <th>id</th>\n",
       "      <th>keyword</th>\n",
       "      <th>location</th>\n",
       "      <th>text</th>\n",
       "      <th>target</th>\n",
       "    </tr>\n",
       "  </thead>\n",
       "  <tbody>\n",
       "    <tr>\n",
       "      <th>7608</th>\n",
       "      <td>10869</td>\n",
       "      <td>NaN</td>\n",
       "      <td>NaN</td>\n",
       "      <td>Two giant cranes holding a bridge collapse int...</td>\n",
       "      <td>1</td>\n",
       "    </tr>\n",
       "    <tr>\n",
       "      <th>7609</th>\n",
       "      <td>10870</td>\n",
       "      <td>NaN</td>\n",
       "      <td>NaN</td>\n",
       "      <td>@aria_ahrary @TheTawniest The out of control w...</td>\n",
       "      <td>1</td>\n",
       "    </tr>\n",
       "    <tr>\n",
       "      <th>7610</th>\n",
       "      <td>10871</td>\n",
       "      <td>NaN</td>\n",
       "      <td>NaN</td>\n",
       "      <td>M1.94 [01:04 UTC]?5km S of Volcano Hawaii. htt...</td>\n",
       "      <td>1</td>\n",
       "    </tr>\n",
       "    <tr>\n",
       "      <th>7611</th>\n",
       "      <td>10872</td>\n",
       "      <td>NaN</td>\n",
       "      <td>NaN</td>\n",
       "      <td>Police investigating after an e-bike collided ...</td>\n",
       "      <td>1</td>\n",
       "    </tr>\n",
       "    <tr>\n",
       "      <th>7612</th>\n",
       "      <td>10873</td>\n",
       "      <td>NaN</td>\n",
       "      <td>NaN</td>\n",
       "      <td>The Latest: More Homes Razed by Northern Calif...</td>\n",
       "      <td>1</td>\n",
       "    </tr>\n",
       "  </tbody>\n",
       "</table>\n",
       "</div>"
      ],
      "text/plain": [
       "         id keyword location  \\\n",
       "7608  10869     NaN      NaN   \n",
       "7609  10870     NaN      NaN   \n",
       "7610  10871     NaN      NaN   \n",
       "7611  10872     NaN      NaN   \n",
       "7612  10873     NaN      NaN   \n",
       "\n",
       "                                                   text  target  \n",
       "7608  Two giant cranes holding a bridge collapse int...       1  \n",
       "7609  @aria_ahrary @TheTawniest The out of control w...       1  \n",
       "7610  M1.94 [01:04 UTC]?5km S of Volcano Hawaii. htt...       1  \n",
       "7611  Police investigating after an e-bike collided ...       1  \n",
       "7612  The Latest: More Homes Razed by Northern Calif...       1  "
      ]
     },
     "execution_count": 4,
     "metadata": {},
     "output_type": "execute_result"
    }
   ],
   "source": [
    "df_train.tail()"
   ]
  },
  {
   "cell_type": "code",
   "execution_count": 5,
   "metadata": {},
   "outputs": [
    {
     "name": "stdout",
     "output_type": "stream",
     "text": [
      "There are 7613 rows and 5 columns. \n"
     ]
    }
   ],
   "source": [
    "# shape\n",
    "print(f\"There are {df_train.shape[0]} rows and {df_train.shape[1]} columns. \")"
   ]
  },
  {
   "cell_type": "code",
   "execution_count": 6,
   "metadata": {},
   "outputs": [
    {
     "data": {
      "text/plain": [
       "<matplotlib.axes._subplots.AxesSubplot at 0x7faa2dbcd9e8>"
      ]
     },
     "execution_count": 6,
     "metadata": {},
     "output_type": "execute_result"
    },
    {
     "data": {
      "image/png": "[encoded data removed]",
      "text/plain": [
       "<Figure size 432x288 with 1 Axes>"
      ]
     },
     "metadata": {
      "needs_background": "light"
     },
     "output_type": "display_data"
    }
   ],
   "source": [
    "# Class Distribution\n",
    "# 0 (Non Disaster) is more than 1 (Disaster) Tweets\n",
    "class_dist = df_train.target.value_counts()\n",
    "sns.barplot(class_dist.index,class_dist)"
   ]
  },
  {
   "cell_type": "code",
   "execution_count": 7,
   "metadata": {},
   "outputs": [
    {
     "data": {
      "text/plain": [
       "<matplotlib.axes._subplots.AxesSubplot at 0x7faa2db11240>"
      ]
     },
     "execution_count": 7,
     "metadata": {},
     "output_type": "execute_result"
    },
    {
     "data": {
      "image/png": "[encoded data removed]",
      "text/plain": [
       "<Figure size 432x288 with 1 Axes>"
      ]
     },
     "metadata": {
      "needs_background": "light"
     },
     "output_type": "display_data"
    }
   ],
   "source": [
    "# Misssing vs Non Missing\n",
    "# 'keyword' & 'location' columns have missing values. Looks like 'location' column is very dirty so lets not use it. Lets also ignore 'keyword' column for now.\n",
    "null_vals = df_train.isnull().sum()\n",
    "sns.barplot(null_vals.index,null_vals)"
   ]
  },
  {
   "cell_type": "markdown",
   "metadata": {},
   "source": [
    "### Cleaning the Dataset\n",
    "\n",
    "- \"When you have pre-trained embeddings, doing standard preprocessing steps might not be a good idea because some of the valuable information can be lost. It is better to get vocabulary as close to embeddings as possible. In order to do that, train vocab and test vocab are created by counting the words in tweets.\" -- Gunes Evitan, Dieter"
   ]
  },
  {
   "cell_type": "code",
   "execution_count": 8,
   "metadata": {},
   "outputs": [],
   "source": [
    "# Removing <> tags\n",
    "\n",
    "def remove_spec(text):\n",
    "    text = re.sub('<.*?>+', '', text)\n",
    "    text = text.lower()\n",
    "    return text\n",
    "\n",
    "# Rmoving puntuctions\n",
    "\n",
    "def remove_punctuation(text):\n",
    "    table = str.maketrans('','',string.punctuation)\n",
    "    return text.translate(table)\n",
    "\n",
    "# Removing URL\n",
    "\n",
    "def remove_urls(text):\n",
    "    text = re.sub(r\"https?:\\/\\/t.co\\/[A-Za-z0-9]+\",'',text)\n",
    "    return text\n",
    "\n",
    "# Removing Emojis\n",
    "\n",
    "def remove_emoji(text):\n",
    "    emojis = re.compile(\"[\"\n",
    "                           u\"\\U0001F600-\\U0001F64F\"  # emoticons\n",
    "                           u\"\\U0001F300-\\U0001F5FF\"  # symbols & pictographs\n",
    "                           u\"\\U0001F680-\\U0001F6FF\"  # transport & map symbols\n",
    "                           u\"\\U0001F1E0-\\U0001F1FF\"  # flags (iOS)\n",
    "                           u\"\\U00002702-\\U000027B0\"\n",
    "                           u\"\\U000024C2-\\U0001F251\"\n",
    "                           \"]+\", flags=re.UNICODE)\n",
    "    \n",
    "    text = re.sub(emojis,'',text)\n",
    "    return text\n"
   ]
  },
  {
   "cell_type": "code",
   "execution_count": 9,
   "metadata": {},
   "outputs": [],
   "source": [
    "df_train['cleaned_text'] = df_train['text'].apply(lambda x : remove_punctuation(x))\n",
    "df_train['cleaned_text'] = df_train['cleaned_text'].apply(lambda x : remove_urls(x))\n",
    "df_train['cleaned_text'] = df_train['cleaned_text'].apply(lambda x : remove_emoji(x))\n",
    "df_train['cleaned_text'] = df_train['cleaned_text'].apply(lambda x : remove_spec(x))"
   ]
  },
  {
   "cell_type": "markdown",
   "metadata": {},
   "source": [
    "### Word corpus and Embedding Dictionary"
   ]
  },
  {
   "cell_type": "code",
   "execution_count": 10,
   "metadata": {},
   "outputs": [
    {
     "name": "stderr",
     "output_type": "stream",
     "text": [
      "100%|██████████| 7613/7613 [00:02<00:00, 3002.48it/s]\n"
     ]
    }
   ],
   "source": [
    "# Creating Words Corpus\n",
    "\n",
    "def create_corpus(dataset):\n",
    "    corpus = []\n",
    "    for review in tqdm(dataset['cleaned_text']):\n",
    "        words = [ word.lower() for word in word_tokenize(review) if (word.isalpha() == 1 ) & (word not in stop) ]\n",
    "        corpus.append(words)\n",
    "\n",
    "    return corpus\n",
    "\n",
    "corpus = create_corpus(df_train)\n"
   ]
  },
  {
   "cell_type": "code",
   "execution_count": 11,
   "metadata": {},
   "outputs": [],
   "source": [
    "# Creating Embedding Dictionary\n",
    "\n",
    "embedding_dict={}\n",
    "with open('../input/glove-100d/glove.6B.100d.txt','r', encoding='utf8') as f:\n",
    "    for line in f:\n",
    "        values=line.split()\n",
    "        word=values[0]\n",
    "        vectors=np.asarray(values[1:],'float32')\n",
    "        embedding_dict[word]=vectors\n",
    "f.close()"
   ]
  },
  {
   "cell_type": "code",
   "execution_count": 12,
   "metadata": {},
   "outputs": [],
   "source": [
    "# Tokenize : break the sentence into single word/token\n",
    "# texts_to_sequences : convert tokenized word into an encoded sequnce\n",
    "# pad_sequence : change the length of sequence by either adding or truncating\n",
    "\n",
    "MAX_LEN = 20 \n",
    "tokenizer = Tokenizer()\n",
    "tokenizer.fit_on_texts(corpus)\n",
    "\n",
    "sequences = tokenizer.texts_to_sequences(corpus)\n",
    "\n",
    "corpus_pad = pad_sequences(sequences, maxlen=MAX_LEN, truncating='post', padding='post')"
   ]
  },
  {
   "cell_type": "code",
   "execution_count": 13,
   "metadata": {},
   "outputs": [
    {
     "name": "stdout",
     "output_type": "stream",
     "text": [
      "Number of unique words : 16883\n"
     ]
    }
   ],
   "source": [
    "# Unique words present\n",
    "word_index = tokenizer.word_index\n",
    "print(f\"Number of unique words : {len(word_index)}\")"
   ]
  },
  {
   "cell_type": "code",
   "execution_count": 14,
   "metadata": {},
   "outputs": [
    {
     "name": "stderr",
     "output_type": "stream",
     "text": [
      "100%|██████████| 16883/16883 [00:00<00:00, 258769.14it/s]\n"
     ]
    }
   ],
   "source": [
    "# Creating embedding matrix with GloVe using enbedding_dict we created above\n",
    "num_words=len(word_index)+1\n",
    "embedding_matrix=np.zeros((num_words,100))\n",
    "\n",
    "for word,i in tqdm(word_index.items()):\n",
    "    if i > num_words:\n",
    "        continue\n",
    "    \n",
    "    emb_vec=embedding_dict.get(word)\n",
    "    if emb_vec is not None:\n",
    "        embedding_matrix[i]=emb_vec"
   ]
  },
  {
   "cell_type": "code",
   "execution_count": 15,
   "metadata": {},
   "outputs": [
    {
     "name": "stdout",
     "output_type": "stream",
     "text": [
      "Model: \"sequential_1\"\n",
      "_________________________________________________________________\n",
      "Layer (type)                 Output Shape              Param #   \n",
      "=================================================================\n",
      "embedding_1 (Embedding)      (None, 20, 100)           1688400   \n",
      "_________________________________________________________________\n",
      "spatial_dropout1d_1 (Spatial (None, 20, 100)           0         \n",
      "_________________________________________________________________\n",
      "lstm_1 (LSTM)                (None, 64)                42240     \n",
      "_________________________________________________________________\n",
      "dense_1 (Dense)              (None, 1)                 65        \n",
      "=================================================================\n",
      "Total params: 1,730,705\n",
      "Trainable params: 42,305\n",
      "Non-trainable params: 1,688,400\n",
      "_________________________________________________________________\n"
     ]
    }
   ],
   "source": [
    "# Long Short Term Memory network.\n",
    "\n",
    "# We need sequential model to process sequence of text data\n",
    "model=Sequential()\n",
    "\n",
    "# Embedding(input_dimension, output_dimension,embeddings_initializer = initialize the embedding matrix we created, trainable = do not train)\n",
    "embedding=Embedding(num_words,100,\n",
    "                    embeddings_initializer=Constant(embedding_matrix),\n",
    "                    input_length=MAX_LEN,\n",
    "                    trainable=False)\n",
    "# Adding Embedding Layer\n",
    "model.add(embedding)\n",
    "\n",
    "# Drops 40% of entire row\n",
    "model.add(SpatialDropout1D(0.4))\n",
    "\n",
    "# Recurrent Layer LSTM(dimensionality of the output space, dropout = 20%, recurrent_dropout = 20%) \n",
    "model.add(LSTM(64, dropout=0.2, recurrent_dropout=0.2))\n",
    "\n",
    "# Decide what we are going to output Dense(units, activation function)\n",
    "model.add(Dense(1, activation='sigmoid'))\n",
    "\n",
    "# Compile the model compile(loss = binary crossentropy, use Adam(adaptive moment estimation) optimizer with learning rate 1e-3,evaluate based on accuracy)\n",
    "model.compile(loss='binary_crossentropy',optimizer=Adam(learning_rate=1e-4),metrics=['accuracy'])\n",
    "\n",
    "model.summary()"
   ]
  },
  {
   "cell_type": "code",
   "execution_count": 16,
   "metadata": {},
   "outputs": [
    {
     "name": "stdout",
     "output_type": "stream",
     "text": [
      "Shape of train (5709, 20)\n",
      "Shape of Validation  (1904, 20)\n",
      "Shape of train (5709,)\n",
      "Shape of Validation  (1904,)\n"
     ]
    }
   ],
   "source": [
    "X_train,X_test,y_train,y_test = train_test_split(corpus_pad, df_train['target'].values, test_size = 0.25, random_state = 0 )\n",
    "\n",
    "print('Shape of train',X_train.shape)\n",
    "print(\"Shape of Validation \",X_test.shape)\n",
    "\n",
    "print('Shape of train',y_train.shape)\n",
    "print(\"Shape of Validation \",y_test.shape)"
   ]
  },
  {
   "cell_type": "code",
   "execution_count": 17,
   "metadata": {},
   "outputs": [
    {
     "name": "stdout",
     "output_type": "stream",
     "text": [
      "Train on 5709 samples, validate on 1904 samples\n",
      "Epoch 1/30\n",
      " - 6s - loss: 0.6801 - accuracy: 0.5991 - val_loss: 0.6382 - val_accuracy: 0.7038\n",
      "Epoch 2/30\n",
      " - 4s - loss: 0.5847 - accuracy: 0.7210 - val_loss: 0.4909 - val_accuracy: 0.7726\n",
      "Epoch 3/30\n",
      " - 4s - loss: 0.5289 - accuracy: 0.7523 - val_loss: 0.4759 - val_accuracy: 0.7794\n",
      "Epoch 4/30\n",
      " - 4s - loss: 0.5147 - accuracy: 0.7621 - val_loss: 0.4712 - val_accuracy: 0.7878\n",
      "Epoch 5/30\n",
      " - 4s - loss: 0.5095 - accuracy: 0.7604 - val_loss: 0.4683 - val_accuracy: 0.7889\n",
      "Epoch 6/30\n",
      " - 3s - loss: 0.5015 - accuracy: 0.7712 - val_loss: 0.4663 - val_accuracy: 0.7868\n",
      "Epoch 7/30\n",
      " - 3s - loss: 0.5004 - accuracy: 0.7711 - val_loss: 0.4628 - val_accuracy: 0.7878\n",
      "Epoch 8/30\n",
      " - 3s - loss: 0.4981 - accuracy: 0.7728 - val_loss: 0.4616 - val_accuracy: 0.7925\n",
      "Epoch 9/30\n",
      " - 4s - loss: 0.4992 - accuracy: 0.7712 - val_loss: 0.4599 - val_accuracy: 0.7904\n",
      "Epoch 10/30\n",
      " - 4s - loss: 0.5060 - accuracy: 0.7683 - val_loss: 0.4613 - val_accuracy: 0.7967\n",
      "Epoch 11/30\n",
      " - 3s - loss: 0.4963 - accuracy: 0.7735 - val_loss: 0.4571 - val_accuracy: 0.7925\n",
      "Epoch 12/30\n",
      " - 3s - loss: 0.4966 - accuracy: 0.7719 - val_loss: 0.4580 - val_accuracy: 0.7957\n",
      "Epoch 13/30\n",
      " - 4s - loss: 0.4826 - accuracy: 0.7833 - val_loss: 0.4575 - val_accuracy: 0.7952\n",
      "Epoch 14/30\n",
      " - 4s - loss: 0.4883 - accuracy: 0.7798 - val_loss: 0.4557 - val_accuracy: 0.7957\n",
      "Epoch 15/30\n",
      " - 3s - loss: 0.4859 - accuracy: 0.7760 - val_loss: 0.4539 - val_accuracy: 0.7941\n",
      "Epoch 16/30\n",
      " - 4s - loss: 0.4834 - accuracy: 0.7753 - val_loss: 0.4549 - val_accuracy: 0.7962\n",
      "Epoch 17/30\n",
      " - 3s - loss: 0.4871 - accuracy: 0.7761 - val_loss: 0.4533 - val_accuracy: 0.7931\n",
      "Epoch 18/30\n",
      " - 4s - loss: 0.4884 - accuracy: 0.7779 - val_loss: 0.4554 - val_accuracy: 0.7978\n",
      "Epoch 19/30\n",
      " - 4s - loss: 0.4847 - accuracy: 0.7763 - val_loss: 0.4523 - val_accuracy: 0.7978\n",
      "Epoch 20/30\n",
      " - 4s - loss: 0.4819 - accuracy: 0.7784 - val_loss: 0.4531 - val_accuracy: 0.7952\n",
      "Epoch 21/30\n",
      " - 4s - loss: 0.4847 - accuracy: 0.7744 - val_loss: 0.4527 - val_accuracy: 0.7988\n",
      "Epoch 22/30\n",
      " - 4s - loss: 0.4841 - accuracy: 0.7802 - val_loss: 0.4527 - val_accuracy: 0.7999\n",
      "Epoch 23/30\n",
      " - 4s - loss: 0.4839 - accuracy: 0.7742 - val_loss: 0.4538 - val_accuracy: 0.8004\n",
      "Epoch 24/30\n",
      " - 4s - loss: 0.4783 - accuracy: 0.7833 - val_loss: 0.4541 - val_accuracy: 0.7983\n",
      "Epoch 25/30\n",
      " - 3s - loss: 0.4800 - accuracy: 0.7826 - val_loss: 0.4498 - val_accuracy: 0.7978\n",
      "Epoch 26/30\n",
      " - 3s - loss: 0.4798 - accuracy: 0.7816 - val_loss: 0.4495 - val_accuracy: 0.8004\n",
      "Epoch 27/30\n",
      " - 3s - loss: 0.4757 - accuracy: 0.7839 - val_loss: 0.4481 - val_accuracy: 0.7999\n",
      "Epoch 28/30\n",
      " - 3s - loss: 0.4678 - accuracy: 0.7863 - val_loss: 0.4494 - val_accuracy: 0.8009\n",
      "Epoch 29/30\n",
      " - 3s - loss: 0.4767 - accuracy: 0.7853 - val_loss: 0.4483 - val_accuracy: 0.8004\n",
      "Epoch 30/30\n",
      " - 4s - loss: 0.4760 - accuracy: 0.7849 - val_loss: 0.4494 - val_accuracy: 0.8004\n"
     ]
    }
   ],
   "source": [
    "history=model.fit(X_train,y_train,batch_size=32,epochs=30,validation_data=(X_test,y_test),verbose=2)"
   ]
  },
  {
   "cell_type": "code",
   "execution_count": 18,
   "metadata": {},
   "outputs": [
    {
     "data": {
      "image/png": "[encoded data removed]",
      "text/plain": [
       "<Figure size 432x288 with 1 Axes>"
      ]
     },
     "metadata": {
      "needs_background": "light"
     },
     "output_type": "display_data"
    }
   ],
   "source": [
    "# Accuracy vs Epoch\n",
    "plt.title('Accuracy')\n",
    "plt.plot(history.history['accuracy'], label='train')\n",
    "plt.plot(history.history['val_accuracy'], label='test')\n",
    "plt.legend()\n",
    "plt.show();"
   ]
  },
  {
   "cell_type": "code",
   "execution_count": 19,
   "metadata": {},
   "outputs": [
    {
     "data": {
      "image/png": "[encoded data removed]",
      "text/plain": [
       "<Figure size 432x288 with 1 Axes>"
      ]
     },
     "metadata": {
      "needs_background": "light"
     },
     "output_type": "display_data"
    }
   ],
   "source": [
    "# Loss vs Epoch\n",
    "# Visualize learning curve. Here learning curve is not ideal. It should be much smoother as it decreases.\n",
    "\n",
    "epoch_count = range(1, len(history.history['loss']) + 1)\n",
    "plt.plot(epoch_count, history.history['loss'], 'r--')\n",
    "plt.plot(epoch_count, history.history['val_loss'], 'b-')\n",
    "plt.legend(['Training Loss', 'Validation Loss'])\n",
    "plt.xlabel('Epoch')\n",
    "plt.ylabel('Loss')\n",
    "plt.show()"
   ]
  },
  {
   "cell_type": "markdown",
   "metadata": {},
   "source": [
    "### Prediction"
   ]
  },
  {
   "cell_type": "code",
   "execution_count": 20,
   "metadata": {},
   "outputs": [],
   "source": [
    "# Clean Test data\n",
    "\n",
    "df_test['cleaned_text'] = df_test['text'].apply(lambda x : remove_punctuation(x))\n",
    "df_test['cleaned_text'] = df_test['cleaned_text'].apply(lambda x : remove_urls(x))\n",
    "df_test['cleaned_text'] = df_test['cleaned_text'].apply(lambda x : remove_emoji(x))\n",
    "df_test['cleaned_text'] = df_test['cleaned_text'].apply(lambda x : remove_spec(x))"
   ]
  },
  {
   "cell_type": "code",
   "execution_count": 21,
   "metadata": {},
   "outputs": [
    {
     "name": "stderr",
     "output_type": "stream",
     "text": [
      "100%|██████████| 3263/3263 [00:01<00:00, 2992.51it/s]\n"
     ]
    }
   ],
   "source": [
    "# Creating corpus\n",
    "test_corpus = create_corpus(df_test)"
   ]
  },
  {
   "cell_type": "code",
   "execution_count": 22,
   "metadata": {},
   "outputs": [],
   "source": [
    "# Encoding Test Text to Sequences\n",
    "test_sequences = tokenizer.texts_to_sequences(test_corpus)\n",
    "\n",
    "test_corpus_pad = pad_sequences(test_sequences, maxlen=MAX_LEN, truncating='post', padding='post')"
   ]
  },
  {
   "cell_type": "code",
   "execution_count": 23,
   "metadata": {},
   "outputs": [],
   "source": [
    "# Predictions\n",
    "predictions = model.predict(test_corpus_pad)\n",
    "predictions = np.round(predictions).astype(int).reshape(3263)"
   ]
  },
  {
   "cell_type": "code",
   "execution_count": 24,
   "metadata": {},
   "outputs": [
    {
     "data": {
      "text/html": [
       "<div>\n",
       "<style scoped>\n",
       "    .dataframe tbody tr th:only-of-type {\n",
       "        vertical-align: middle;\n",
       "    }\n",
       "\n",
       "    .dataframe tbody tr th {\n",
       "        vertical-align: top;\n",
       "    }\n",
       "\n",
       "    .dataframe thead th {\n",
       "        text-align: right;\n",
       "    }\n",
       "</style>\n",
       "<table border=\"1\" class=\"dataframe\">\n",
       "  <thead>\n",
       "    <tr style=\"text-align: right;\">\n",
       "      <th></th>\n",
       "      <th>id</th>\n",
       "      <th>target</th>\n",
       "    </tr>\n",
       "  </thead>\n",
       "  <tbody>\n",
       "    <tr>\n",
       "      <th>0</th>\n",
       "      <td>0</td>\n",
       "      <td>1</td>\n",
       "    </tr>\n",
       "    <tr>\n",
       "      <th>1</th>\n",
       "      <td>2</td>\n",
       "      <td>1</td>\n",
       "    </tr>\n",
       "    <tr>\n",
       "      <th>2</th>\n",
       "      <td>3</td>\n",
       "      <td>1</td>\n",
       "    </tr>\n",
       "    <tr>\n",
       "      <th>3</th>\n",
       "      <td>9</td>\n",
       "      <td>1</td>\n",
       "    </tr>\n",
       "    <tr>\n",
       "      <th>4</th>\n",
       "      <td>11</td>\n",
       "      <td>1</td>\n",
       "    </tr>\n",
       "  </tbody>\n",
       "</table>\n",
       "</div>"
      ],
      "text/plain": [
       "   id  target\n",
       "0   0       1\n",
       "1   2       1\n",
       "2   3       1\n",
       "3   9       1\n",
       "4  11       1"
      ]
     },
     "execution_count": 24,
     "metadata": {},
     "output_type": "execute_result"
    }
   ],
   "source": [
    "# Creating submission file \n",
    "submission = pd.DataFrame({'id' : df_test['id'], 'target' : predictions})\n",
    "submission.to_csv('final_submission.csv', index=False)\n",
    "\n",
    "submission.head()"
   ]
  },
  {
   "cell_type": "code",
   "execution_count": null,
   "metadata": {},
   "outputs": [],
   "source": []
  }
 ],
 "metadata": {
  "kernelspec": {
   "display_name": "Python 3",
   "language": "python",
   "name": "python3"
  },
  "language_info": {
   "codemirror_mode": {
    "name": "ipython",
    "version": 3
   },
   "file_extension": ".py",
   "mimetype": "text/x-python",
   "name": "python",
   "nbconvert_exporter": "python",
   "pygments_lexer": "ipython3",
   "version": "3.6.6"
  }
 },
 "nbformat": 4,
 "nbformat_minor": 1
}
